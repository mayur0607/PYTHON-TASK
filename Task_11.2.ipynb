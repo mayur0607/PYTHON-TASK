{
 "cells": [
  {
   "cell_type": "code",
   "execution_count": 1,
   "id": "d494a4f1",
   "metadata": {},
   "outputs": [],
   "source": [
    "#ask 2 numbers from user and store it in num1 and num 2"
   ]
  },
  {
   "cell_type": "code",
   "execution_count": 2,
   "id": "e1a9b38d",
   "metadata": {},
   "outputs": [
    {
     "name": "stdout",
     "output_type": "stream",
     "text": [
      "Enter two numbers :Enter first number:20\n",
      "Enter second number:10\n",
      "Enter the operator(+,-,*,/):+\n",
      "\n",
      "20+10=30\n"
     ]
    }
   ],
   "source": [
    "def add(a, b):\n",
    "    return a+b\n",
    "def subs(a, b):\n",
    "    return a-b\n",
    "def mul(a, b):\n",
    "    return a*b\n",
    "def div(a, b):\n",
    "    return a/b\n",
    "print(\"Enter two numbers :\", end=\"\")\n",
    "num1 = int(input(\"Enter first number:\"))\n",
    "num2 = int(input(\"Enter second number:\"))\n",
    "print(\"Enter the operator(+,-,*,/):\", end=\"\")\n",
    "ch=input()\n",
    "if ch=='+':\n",
    "    print(\"\\n\" +str(num1)+ \"+\" +str(num2)+ \"=\" +str(add(num1, num2)))\n",
    "elif ch=='-':\n",
    "    print(\"\\n\" +str(num1)+ \"-\" +str(num2)+ \"=\" +str(sub(num1, num2)))\n",
    "elif ch=='*':\n",
    "    print(\"\\n\" +str(num1)+ \"*\" +str(num2)+ \"=\" +str(mul(num1, num2)))\n",
    "elif ch=='/':\n",
    "    print(\"\\n\" +str(num1)+ \"/\" +str(num2)+ \"=\" +str(div(num1, num2)))\n",
    "else:\n",
    "    print(\"\\nInvalid operator\")\n"
   ]
  },
  {
   "cell_type": "code",
   "execution_count": null,
   "id": "d6fbb4dc",
   "metadata": {},
   "outputs": [],
   "source": [
    "\n"
   ]
  }
 ],
 "metadata": {
  "kernelspec": {
   "display_name": "Python 3",
   "language": "python",
   "name": "python3"
  },
  "language_info": {
   "codemirror_mode": {
    "name": "ipython",
    "version": 3
   },
   "file_extension": ".py",
   "mimetype": "text/x-python",
   "name": "python",
   "nbconvert_exporter": "python",
   "pygments_lexer": "ipython3",
   "version": "3.8.8"
  }
 },
 "nbformat": 4,
 "nbformat_minor": 5
}
