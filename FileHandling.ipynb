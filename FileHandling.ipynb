{
 "cells": [
  {
   "cell_type": "markdown",
   "id": "0b408b89",
   "metadata": {},
   "source": [
    "# FileHandling"
   ]
  },
  {
   "cell_type": "code",
   "execution_count": 1,
   "id": "d65ac434",
   "metadata": {},
   "outputs": [],
   "source": [
    "# 1) To open and Read the files\n",
    "file = open('myfile.txt','r') #same as open('MyFile.txt')"
   ]
  },
  {
   "cell_type": "markdown",
   "id": "60c2e103",
   "metadata": {},
   "source": [
    "# 1) read()"
   ]
  },
  {
   "cell_type": "code",
   "execution_count": 2,
   "id": "b03ab27a",
   "metadata": {},
   "outputs": [
    {
     "data": {
      "text/plain": [
       "'my name is mayur \\nI am from Maharastra\\nI love my dad '"
      ]
     },
     "execution_count": 2,
     "metadata": {},
     "output_type": "execute_result"
    }
   ],
   "source": [
    "file.read()"
   ]
  },
  {
   "cell_type": "code",
   "execution_count": 3,
   "id": "641741d8",
   "metadata": {},
   "outputs": [
    {
     "data": {
      "text/plain": [
       "0"
      ]
     },
     "execution_count": 3,
     "metadata": {},
     "output_type": "execute_result"
    }
   ],
   "source": [
    "#to take the cursor back to beginning of the text file, use seek()\n",
    "file.seek(0)"
   ]
  },
  {
   "cell_type": "code",
   "execution_count": 4,
   "id": "218cfb4b",
   "metadata": {},
   "outputs": [
    {
     "data": {
      "text/plain": [
       "'my name is mayur \\nI am from Maharastra\\nI love my dad '"
      ]
     },
     "execution_count": 4,
     "metadata": {},
     "output_type": "execute_result"
    }
   ],
   "source": [
    "file.read()"
   ]
  },
  {
   "cell_type": "markdown",
   "id": "10306c44",
   "metadata": {},
   "source": [
    "# 2) readline()"
   ]
  },
  {
   "cell_type": "code",
   "execution_count": 5,
   "id": "8bb09fe4",
   "metadata": {},
   "outputs": [
    {
     "data": {
      "text/plain": [
       "'my name is mayur \\n'"
      ]
     },
     "execution_count": 5,
     "metadata": {},
     "output_type": "execute_result"
    }
   ],
   "source": [
    "file.seek(0)\n",
    "file.readline()"
   ]
  },
  {
   "cell_type": "code",
   "execution_count": 6,
   "id": "9665ddf7",
   "metadata": {},
   "outputs": [
    {
     "data": {
      "text/plain": [
       "'I am from Maharastra\\n'"
      ]
     },
     "execution_count": 6,
     "metadata": {},
     "output_type": "execute_result"
    }
   ],
   "source": [
    "file.readline()"
   ]
  },
  {
   "cell_type": "code",
   "execution_count": 7,
   "id": "2e86e2f8",
   "metadata": {},
   "outputs": [
    {
     "data": {
      "text/plain": [
       "'I love my dad '"
      ]
     },
     "execution_count": 7,
     "metadata": {},
     "output_type": "execute_result"
    }
   ],
   "source": [
    "file.readline()"
   ]
  },
  {
   "cell_type": "code",
   "execution_count": 8,
   "id": "78c26549",
   "metadata": {},
   "outputs": [
    {
     "data": {
      "text/plain": [
       "''"
      ]
     },
     "execution_count": 8,
     "metadata": {},
     "output_type": "execute_result"
    }
   ],
   "source": [
    "file.readline()"
   ]
  },
  {
   "cell_type": "code",
   "execution_count": 9,
   "id": "9e98bc6f",
   "metadata": {},
   "outputs": [
    {
     "data": {
      "text/plain": [
       "0"
      ]
     },
     "execution_count": 9,
     "metadata": {},
     "output_type": "execute_result"
    }
   ],
   "source": [
    "file.seek(0)"
   ]
  },
  {
   "cell_type": "code",
   "execution_count": 10,
   "id": "ec560850",
   "metadata": {},
   "outputs": [
    {
     "name": "stdout",
     "output_type": "stream",
     "text": [
      "my name is mayur \n",
      "\n",
      "I am from Maharastra\n",
      "\n",
      "I love my dad \n"
     ]
    }
   ],
   "source": [
    "# you can use for loop to read all the lines\n",
    "for line in file:\n",
    "    print(line)"
   ]
  },
  {
   "cell_type": "code",
   "execution_count": 11,
   "id": "c5e96441",
   "metadata": {},
   "outputs": [
    {
     "data": {
      "text/plain": [
       "0"
      ]
     },
     "execution_count": 11,
     "metadata": {},
     "output_type": "execute_result"
    }
   ],
   "source": [
    "file.seek(0)"
   ]
  },
  {
   "cell_type": "code",
   "execution_count": 12,
   "id": "af250eb4",
   "metadata": {},
   "outputs": [
    {
     "name": "stdout",
     "output_type": "stream",
     "text": [
      "['my name is mayur \\n', 'I am from Maharastra\\n', 'I love my dad ']\n",
      "I love my dad \n"
     ]
    }
   ],
   "source": [
    "#To read perticular lines\n",
    "list1 = file.readlines()\n",
    "print(list1)\n",
    "#to get last line\n",
    "print(list1[-1])"
   ]
  },
  {
   "cell_type": "code",
   "execution_count": 13,
   "id": "3f98ee9a",
   "metadata": {},
   "outputs": [],
   "source": [
    "file.close()"
   ]
  },
  {
   "cell_type": "code",
   "execution_count": 14,
   "id": "962ca2af",
   "metadata": {},
   "outputs": [
    {
     "ename": "ValueError",
     "evalue": "I/O operation on closed file.",
     "output_type": "error",
     "traceback": [
      "\u001b[1;31m---------------------------------------------------------------------------\u001b[0m",
      "\u001b[1;31mValueError\u001b[0m                                Traceback (most recent call last)",
      "\u001b[1;32m<ipython-input-14-7a1aa4bd89eb>\u001b[0m in \u001b[0;36m<module>\u001b[1;34m\u001b[0m\n\u001b[0;32m      1\u001b[0m \u001b[1;31m#You cannot do read write operations on closed files\u001b[0m\u001b[1;33m\u001b[0m\u001b[1;33m\u001b[0m\u001b[1;33m\u001b[0m\u001b[0m\n\u001b[1;32m----> 2\u001b[1;33m \u001b[0mfile\u001b[0m\u001b[1;33m.\u001b[0m\u001b[0mread\u001b[0m\u001b[1;33m(\u001b[0m\u001b[1;33m)\u001b[0m\u001b[1;33m\u001b[0m\u001b[1;33m\u001b[0m\u001b[0m\n\u001b[0m",
      "\u001b[1;31mValueError\u001b[0m: I/O operation on closed file."
     ]
    }
   ],
   "source": [
    "#You cannot do read write operations on closed files\n",
    "file.read()"
   ]
  },
  {
   "cell_type": "markdown",
   "id": "7a2e7197",
   "metadata": {},
   "source": [
    "# 2) To write to an existing file¶\n",
    "\n",
    "we use write() method to write to a file use mode = 'a' - append use mode = 'w' - write\n",
    "\n",
    "\n",
    "\n",
    "### Appending"
   ]
  },
  {
   "cell_type": "code",
   "execution_count": null,
   "id": "10b01ce6",
   "metadata": {},
   "outputs": [],
   "source": [
    "# Ex1"
   ]
  },
  {
   "cell_type": "code",
   "execution_count": null,
   "id": "5b9d6ac3",
   "metadata": {},
   "outputs": [],
   "source": []
  },
  {
   "cell_type": "code",
   "execution_count": null,
   "id": "bf012b6b",
   "metadata": {},
   "outputs": [],
   "source": []
  },
  {
   "cell_type": "code",
   "execution_count": null,
   "id": "9a073eaf",
   "metadata": {},
   "outputs": [],
   "source": []
  },
  {
   "cell_type": "code",
   "execution_count": null,
   "id": "629d6194",
   "metadata": {},
   "outputs": [],
   "source": []
  },
  {
   "cell_type": "code",
   "execution_count": null,
   "id": "703bb322",
   "metadata": {},
   "outputs": [],
   "source": []
  }
 ],
 "metadata": {
  "kernelspec": {
   "display_name": "Python 3",
   "language": "python",
   "name": "python3"
  },
  "language_info": {
   "codemirror_mode": {
    "name": "ipython",
    "version": 3
   },
   "file_extension": ".py",
   "mimetype": "text/x-python",
   "name": "python",
   "nbconvert_exporter": "python",
   "pygments_lexer": "ipython3",
   "version": "3.8.8"
  }
 },
 "nbformat": 4,
 "nbformat_minor": 5
}
