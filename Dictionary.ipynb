{
 "cells": [
  {
   "cell_type": "markdown",
   "id": "e9e8952a",
   "metadata": {},
   "source": [
    "# Task 2 .Dictionary"
   ]
  },
  {
   "cell_type": "code",
   "execution_count": 1,
   "id": "fe6c010e",
   "metadata": {},
   "outputs": [],
   "source": [
    "dict2 = { \n",
    "   \"april_batch\":{ \n",
    "      \"student\":{ \n",
    "         \"name\":\"Mike\",\n",
    "         \"marks\":{ \n",
    "            \"python\":80,\n",
    "            \"maths\":70\n",
    "         }\n",
    "      }\n",
    "   }\n",
    "}"
   ]
  },
  {
   "cell_type": "code",
   "execution_count": 2,
   "id": "cc328cb0",
   "metadata": {},
   "outputs": [],
   "source": [
    "x = dict2"
   ]
  },
  {
   "cell_type": "code",
   "execution_count": 3,
   "id": "c7c745ca",
   "metadata": {},
   "outputs": [
    {
     "name": "stdout",
     "output_type": "stream",
     "text": [
      "{'april_batch': {'student': {'name': 'Mike', 'marks': {'python': 80, 'maths': 70}}}}\n"
     ]
    }
   ],
   "source": [
    "print(x)"
   ]
  },
  {
   "cell_type": "code",
   "execution_count": 4,
   "id": "e259faa2",
   "metadata": {},
   "outputs": [
    {
     "data": {
      "text/plain": [
       "'Mike'"
      ]
     },
     "execution_count": 4,
     "metadata": {},
     "output_type": "execute_result"
    }
   ],
   "source": [
    "#accessing mike\n",
    "dict2[\"april_batch\"][\"student\"][\"name\"]"
   ]
  },
  {
   "cell_type": "code",
   "execution_count": 5,
   "id": "216dc22a",
   "metadata": {},
   "outputs": [
    {
     "data": {
      "text/plain": [
       "80"
      ]
     },
     "execution_count": 5,
     "metadata": {},
     "output_type": "execute_result"
    }
   ],
   "source": [
    "# accessing 80\n",
    "dict2[\"april_batch\"][\"student\"][\"marks\"][\"python\"]"
   ]
  },
  {
   "cell_type": "code",
   "execution_count": 6,
   "id": "196d49f2",
   "metadata": {},
   "outputs": [],
   "source": [
    "# change Mike to Mayur\n",
    "dict2[\"april_batch\"][\"student\"][\"name\"] = \"Mayur\""
   ]
  },
  {
   "cell_type": "code",
   "execution_count": null,
   "id": "dd7441c4",
   "metadata": {},
   "outputs": [],
   "source": []
  },
  {
   "cell_type": "code",
   "execution_count": null,
   "id": "4cfeefcd",
   "metadata": {},
   "outputs": [],
   "source": []
  },
  {
   "cell_type": "code",
   "execution_count": null,
   "id": "a2bb8f30",
   "metadata": {},
   "outputs": [],
   "source": []
  },
  {
   "cell_type": "code",
   "execution_count": null,
   "id": "bf15ce18",
   "metadata": {},
   "outputs": [],
   "source": []
  }
 ],
 "metadata": {
  "kernelspec": {
   "display_name": "Python 3",
   "language": "python",
   "name": "python3"
  },
  "language_info": {
   "codemirror_mode": {
    "name": "ipython",
    "version": 3
   },
   "file_extension": ".py",
   "mimetype": "text/x-python",
   "name": "python",
   "nbconvert_exporter": "python",
   "pygments_lexer": "ipython3",
   "version": "3.8.8"
  }
 },
 "nbformat": 4,
 "nbformat_minor": 5
}
