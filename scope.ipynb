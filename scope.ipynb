{
 "cells": [
  {
   "cell_type": "markdown",
   "id": "82826081",
   "metadata": {},
   "source": [
    "# local scope"
   ]
  },
  {
   "cell_type": "code",
   "execution_count": 1,
   "id": "5bf65a30",
   "metadata": {},
   "outputs": [
    {
     "name": "stdout",
     "output_type": "stream",
     "text": [
      "10\n"
     ]
    }
   ],
   "source": [
    "\n",
    "def fun1():\n",
    "    x = 10 #local scoping.\n",
    "    print(x)\n",
    "fun1()"
   ]
  },
  {
   "cell_type": "markdown",
   "id": "4cb32da8",
   "metadata": {},
   "source": [
    "# enclosing scope"
   ]
  },
  {
   "cell_type": "code",
   "execution_count": 2,
   "id": "55f14c04",
   "metadata": {},
   "outputs": [
    {
     "name": "stdout",
     "output_type": "stream",
     "text": [
      "Outer function  300\n",
      "Inner function  300\n"
     ]
    }
   ],
   "source": [
    "def outer_func():\n",
    "    x = 300        #enclosing scope \n",
    "    print('Outer function ',x)\n",
    "    def inner_fun():\n",
    "        print('Inner function ',x) #local scope.\n",
    "    \n",
    "    inner_fun()\n",
    "\n",
    "outer_func()"
   ]
  },
  {
   "cell_type": "code",
   "execution_count": null,
   "id": "c2fc2106",
   "metadata": {},
   "outputs": [],
   "source": []
  },
  {
   "cell_type": "markdown",
   "id": "be464190",
   "metadata": {},
   "source": [
    "# global scope"
   ]
  },
  {
   "cell_type": "code",
   "execution_count": 3,
   "id": "62b3cf90",
   "metadata": {},
   "outputs": [
    {
     "name": "stdout",
     "output_type": "stream",
     "text": [
      "Global :  300\n",
      "my_func :  300\n",
      "my_inner_fun :  300\n"
     ]
    }
   ],
   "source": [
    "x = 300 #global scoping.\n",
    "\n",
    "def my_func():\n",
    "    \n",
    "    print('my_func : ',x) #enclosing scope\n",
    "    \n",
    "    def my_inner_fun():\n",
    "        print('my_inner_fun : ',x) #local scope.\n",
    "        \n",
    "    my_inner_fun()\n",
    "    \n",
    "print('Global : ',x)\n",
    "\n",
    "my_func()"
   ]
  },
  {
   "cell_type": "code",
   "execution_count": null,
   "id": "9a2658dd",
   "metadata": {},
   "outputs": [],
   "source": []
  },
  {
   "cell_type": "markdown",
   "id": "665a66b4",
   "metadata": {},
   "source": [
    "# How to change global variables inside functions"
   ]
  },
  {
   "cell_type": "code",
   "execution_count": 4,
   "id": "8b8b4511",
   "metadata": {},
   "outputs": [
    {
     "name": "stdout",
     "output_type": "stream",
     "text": [
      "local  200\n",
      "GLobal 300\n"
     ]
    }
   ],
   "source": [
    "x = 300 #Global scoping.\n",
    "\n",
    "def my_fun():\n",
    "    x = 200 # local scoping.\n",
    "    print('local ',x)\n",
    "\n",
    "my_fun()\n",
    "print('GLobal',x)"
   ]
  },
  {
   "cell_type": "markdown",
   "id": "6e58e3fa",
   "metadata": {},
   "source": [
    "# Global Keyword"
   ]
  },
  {
   "cell_type": "code",
   "execution_count": 5,
   "id": "34aea789",
   "metadata": {},
   "outputs": [
    {
     "name": "stdout",
     "output_type": "stream",
     "text": [
      "local  200\n",
      "GLobal 300\n"
     ]
    }
   ],
   "source": [
    "x1 = 300\n",
    "\n",
    "def my_fun():\n",
    "    global x\n",
    "    x = 200\n",
    "    print('local ',x)\n",
    "    \n",
    "my_fun()\n",
    "\n",
    "print('GLobal',x1)"
   ]
  },
  {
   "cell_type": "code",
   "execution_count": null,
   "id": "b8f2b980",
   "metadata": {},
   "outputs": [],
   "source": []
  },
  {
   "cell_type": "markdown",
   "id": "d1ff732b",
   "metadata": {},
   "source": [
    "# Order of execution ---> Local,Enclosing,Global"
   ]
  },
  {
   "cell_type": "code",
   "execution_count": 6,
   "id": "924f1e1b",
   "metadata": {},
   "outputs": [
    {
     "name": "stdout",
     "output_type": "stream",
     "text": [
      "Value of y global =  1000\n",
      "Value of y in func1=  100\n",
      "Value of y in func2=  10\n",
      "Value of y =  1\n"
     ]
    }
   ],
   "source": [
    "y = 1000 #global scoping.\n",
    "\n",
    "\n",
    "def func1():\n",
    "    y = 100 # enclosing scope.\n",
    "    print('Value of y in func1= ', y )\n",
    "    \n",
    "    def func2():\n",
    "        y = 10 #enclolsing scope.\n",
    "        print('Value of y in func2= ', y )\n",
    "        \n",
    "        def func3():\n",
    "            y = 1 # local scope.\n",
    "            print('Value of y = ', y )\n",
    "        \n",
    "        func3()\n",
    "    \n",
    "    func2()\n",
    "    \n",
    "print('Value of y global = ', y )\n",
    "func1()"
   ]
  },
  {
   "cell_type": "code",
   "execution_count": null,
   "id": "22125b02",
   "metadata": {},
   "outputs": [],
   "source": []
  }
 ],
 "metadata": {
  "kernelspec": {
   "display_name": "Python 3",
   "language": "python",
   "name": "python3"
  },
  "language_info": {
   "codemirror_mode": {
    "name": "ipython",
    "version": 3
   },
   "file_extension": ".py",
   "mimetype": "text/x-python",
   "name": "python",
   "nbconvert_exporter": "python",
   "pygments_lexer": "ipython3",
   "version": "3.8.8"
  }
 },
 "nbformat": 4,
 "nbformat_minor": 5
}
