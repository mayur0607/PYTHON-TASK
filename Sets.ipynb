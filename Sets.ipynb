{
 "cells": [
  {
   "cell_type": "markdown",
   "id": "60a1e93d",
   "metadata": {},
   "source": [
    "\n",
    "# Task 4. other inbuilt methods like."
   ]
  },
  {
   "cell_type": "code",
   "execution_count": 1,
   "id": "56d9c05d",
   "metadata": {},
   "outputs": [],
   "source": [
    "#difference() \n",
    "setA = {'a', 'b', 'c', 'd'}\n",
    "setB = {'c', 'f', 'g'}"
   ]
  },
  {
   "cell_type": "code",
   "execution_count": 2,
   "id": "67982e6b",
   "metadata": {},
   "outputs": [
    {
     "name": "stdout",
     "output_type": "stream",
     "text": [
      "{'b', 'a', 'd', 'c'}\n",
      "{'f', 'g', 'c'}\n"
     ]
    }
   ],
   "source": [
    "print(setA)\n",
    "print(setB)"
   ]
  },
  {
   "cell_type": "code",
   "execution_count": 3,
   "id": "dbd98b0b",
   "metadata": {},
   "outputs": [],
   "source": [
    "setC = setA.difference(setB)"
   ]
  },
  {
   "cell_type": "code",
   "execution_count": 4,
   "id": "48cf2b61",
   "metadata": {},
   "outputs": [
    {
     "name": "stdout",
     "output_type": "stream",
     "text": [
      "{'b', 'a', 'd'}\n"
     ]
    }
   ],
   "source": [
    "print(setC)"
   ]
  },
  {
   "cell_type": "code",
   "execution_count": 5,
   "id": "d2001d30",
   "metadata": {},
   "outputs": [],
   "source": [
    "#set symmetric_difference\n",
    "A = {'a', 'b', 'c', 'd'}\n",
    "B = {'c', 'd', 'e' }\n",
    "C = {}"
   ]
  },
  {
   "cell_type": "code",
   "execution_count": 6,
   "id": "9a6a7fa7",
   "metadata": {},
   "outputs": [
    {
     "name": "stdout",
     "output_type": "stream",
     "text": [
      "{'b', 'a', 'e'}\n",
      "{'b', 'a', 'e'}\n"
     ]
    }
   ],
   "source": [
    "\n",
    "print(A.symmetric_difference(B))\n",
    "print(B.symmetric_difference(A))"
   ]
  }
 ],
 "metadata": {
  "kernelspec": {
   "display_name": "Python 3",
   "language": "python",
   "name": "python3"
  },
  "language_info": {
   "codemirror_mode": {
    "name": "ipython",
    "version": 3
   },
   "file_extension": ".py",
   "mimetype": "text/x-python",
   "name": "python",
   "nbconvert_exporter": "python",
   "pygments_lexer": "ipython3",
   "version": "3.8.8"
  }
 },
 "nbformat": 4,
 "nbformat_minor": 5
}
