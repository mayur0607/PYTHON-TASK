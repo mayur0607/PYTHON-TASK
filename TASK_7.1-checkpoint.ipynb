{
 "cells": [
  {
   "cell_type": "code",
   "execution_count": 1,
   "id": "b8485f24",
   "metadata": {},
   "outputs": [],
   "source": [
    "set1 = {1, 2, 3, 4, 5}\n",
    "set2 = {4 , 5 , 6 , 7}"
   ]
  },
  {
   "cell_type": "code",
   "execution_count": 2,
   "id": "70c1b024",
   "metadata": {},
   "outputs": [
    {
     "name": "stdout",
     "output_type": "stream",
     "text": [
      "{1, 2, 3, 4, 5}\n",
      "{4, 5, 6, 7}\n"
     ]
    }
   ],
   "source": [
    "print(set1)\n",
    "print(set2)"
   ]
  },
  {
   "cell_type": "code",
   "execution_count": 3,
   "id": "ba2d1454",
   "metadata": {},
   "outputs": [],
   "source": [
    "#set3 = set1.difference(set2)"
   ]
  },
  {
   "cell_type": "code",
   "execution_count": 4,
   "id": "6e30a270",
   "metadata": {},
   "outputs": [],
   "source": [
    "#print(set3)"
   ]
  },
  {
   "cell_type": "code",
   "execution_count": 5,
   "id": "76876338",
   "metadata": {},
   "outputs": [],
   "source": [
    "set3 = set1.symmetric_difference(set2)"
   ]
  },
  {
   "cell_type": "code",
   "execution_count": 6,
   "id": "94e3c705",
   "metadata": {},
   "outputs": [
    {
     "name": "stdout",
     "output_type": "stream",
     "text": [
      "{1, 2, 3, 6, 7}\n"
     ]
    }
   ],
   "source": [
    "print(set3)"
   ]
  }
 ],
 "metadata": {
  "kernelspec": {
   "display_name": "Python 3",
   "language": "python",
   "name": "python3"
  },
  "language_info": {
   "codemirror_mode": {
    "name": "ipython",
    "version": 3
   },
   "file_extension": ".py",
   "mimetype": "text/x-python",
   "name": "python",
   "nbconvert_exporter": "python",
   "pygments_lexer": "ipython3",
   "version": "3.8.8"
  }
 },
 "nbformat": 4,
 "nbformat_minor": 5
}
