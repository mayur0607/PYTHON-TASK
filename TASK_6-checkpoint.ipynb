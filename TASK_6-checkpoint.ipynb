{
 "cells": [
  {
   "cell_type": "code",
   "execution_count": 1,
   "id": "1993253c",
   "metadata": {},
   "outputs": [],
   "source": [
    "tup1 = (11 , 12 , 23 , 67 , 77)"
   ]
  },
  {
   "cell_type": "code",
   "execution_count": 2,
   "id": "8158ccaa",
   "metadata": {},
   "outputs": [],
   "source": [
    "#modify tuple into list\n",
    "list1 = list(tup1)"
   ]
  },
  {
   "cell_type": "code",
   "execution_count": 3,
   "id": "1d466a52",
   "metadata": {},
   "outputs": [
    {
     "name": "stdout",
     "output_type": "stream",
     "text": [
      "[11, 12, 23, 67, 77]\n"
     ]
    }
   ],
   "source": [
    "print(list1)"
   ]
  },
  {
   "cell_type": "code",
   "execution_count": 4,
   "id": "14ec3daa",
   "metadata": {},
   "outputs": [],
   "source": [
    "#add element \n",
    "list1[1] = 56"
   ]
  },
  {
   "cell_type": "code",
   "execution_count": 5,
   "id": "06f8991d",
   "metadata": {},
   "outputs": [
    {
     "name": "stdout",
     "output_type": "stream",
     "text": [
      "[11, 56, 23, 67, 77]\n"
     ]
    }
   ],
   "source": [
    "print(list1)"
   ]
  },
  {
   "cell_type": "code",
   "execution_count": 6,
   "id": "ff2f2c0c",
   "metadata": {},
   "outputs": [],
   "source": [
    "#clear list\n",
    "#list1.clear()"
   ]
  },
  {
   "cell_type": "code",
   "execution_count": 7,
   "id": "fdfd9ef9",
   "metadata": {},
   "outputs": [],
   "source": [
    "#print(list1)"
   ]
  },
  {
   "cell_type": "code",
   "execution_count": 8,
   "id": "80ef89aa",
   "metadata": {},
   "outputs": [],
   "source": [
    "#again converting into tuple\n",
    "tup1 = tuple(list1)"
   ]
  },
  {
   "cell_type": "code",
   "execution_count": 9,
   "id": "2b791464",
   "metadata": {},
   "outputs": [
    {
     "name": "stdout",
     "output_type": "stream",
     "text": [
      "(11, 56, 23, 67, 77)\n"
     ]
    }
   ],
   "source": [
    "print(tup1)"
   ]
  }
 ],
 "metadata": {
  "kernelspec": {
   "display_name": "Python 3",
   "language": "python",
   "name": "python3"
  },
  "language_info": {
   "codemirror_mode": {
    "name": "ipython",
    "version": 3
   },
   "file_extension": ".py",
   "mimetype": "text/x-python",
   "name": "python",
   "nbconvert_exporter": "python",
   "pygments_lexer": "ipython3",
   "version": "3.8.8"
  }
 },
 "nbformat": 4,
 "nbformat_minor": 5
}
