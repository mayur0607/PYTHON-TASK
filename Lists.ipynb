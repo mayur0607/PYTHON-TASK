{
 "cells": [
  {
   "cell_type": "markdown",
   "id": "7bc85993",
   "metadata": {},
   "source": [
    "# Examples on Other inbuilt functions Task .1"
   ]
  },
  {
   "cell_type": "markdown",
   "id": "2ed493ec",
   "metadata": {},
   "source": [
    "# 1.count()"
   ]
  },
  {
   "cell_type": "code",
   "execution_count": 1,
   "id": "d87e3bba",
   "metadata": {},
   "outputs": [],
   "source": [
    "fruits = [1, 4, 2, 9, 7, 8, 9, 3, 1]"
   ]
  },
  {
   "cell_type": "code",
   "execution_count": 2,
   "id": "841253d2",
   "metadata": {},
   "outputs": [
    {
     "data": {
      "text/plain": [
       "2"
      ]
     },
     "execution_count": 2,
     "metadata": {},
     "output_type": "execute_result"
    }
   ],
   "source": [
    "fruits.count(1)"
   ]
  },
  {
   "cell_type": "markdown",
   "id": "ba88d2d6",
   "metadata": {},
   "source": [
    "# 2).remove()"
   ]
  },
  {
   "cell_type": "code",
   "execution_count": 3,
   "id": "2a45b318",
   "metadata": {},
   "outputs": [
    {
     "name": "stdout",
     "output_type": "stream",
     "text": [
      "Updated animals list:  ['cat', 'rabbit', 'guinea pig']\n"
     ]
    }
   ],
   "source": [
    "# animals list\n",
    "animals = ['cat', 'dog', 'rabbit', 'guinea pig']\n",
    "\n",
    "# 'dog' is removed\n",
    "animals.remove('dog') #remove() is used to remove the element from the lists.\n",
    " \n",
    "# Updated animals List\n",
    "print('Updated animals list: ', animals)"
   ]
  },
  {
   "cell_type": "markdown",
   "id": "f251cddf",
   "metadata": {},
   "source": [
    "# 3). clear()"
   ]
  },
  {
   "cell_type": "code",
   "execution_count": 4,
   "id": "fe9a5452",
   "metadata": {},
   "outputs": [
    {
     "name": "stdout",
     "output_type": "stream",
     "text": [
      "List: []\n"
     ]
    }
   ],
   "source": [
    "# Defining a list\n",
    "list = [{1, 2}, ('a'), ['1.1', '2.2']]\n",
    "\n",
    "# clearing the list\n",
    "list.clear()\n",
    "\n",
    "print('List:', list)"
   ]
  },
  {
   "cell_type": "markdown",
   "id": "f10986c4",
   "metadata": {},
   "source": [
    "# 4). reverse()"
   ]
  },
  {
   "cell_type": "code",
   "execution_count": 5,
   "id": "c6c974ca",
   "metadata": {},
   "outputs": [
    {
     "name": "stdout",
     "output_type": "stream",
     "text": [
      "Original List: ['Windows', 'macOS', 'Linux']\n",
      "Updated List: ['Linux', 'macOS', 'Windows']\n"
     ]
    }
   ],
   "source": [
    "# Operating System List\n",
    "systems = ['Windows', 'macOS', 'Linux']\n",
    "print('Original List:', systems)\n",
    "\n",
    "# List Reverse\n",
    "systems.reverse()\n",
    "\n",
    "# updated list\n",
    "print('Updated List:', systems)"
   ]
  },
  {
   "cell_type": "markdown",
   "id": "2250b47a",
   "metadata": {},
   "source": [
    "# 5). sort()"
   ]
  },
  {
   "cell_type": "code",
   "execution_count": 6,
   "id": "869dece5",
   "metadata": {},
   "outputs": [
    {
     "name": "stdout",
     "output_type": "stream",
     "text": [
      "Sorted list: ['a', 'e', 'i', 'o', 'u']\n"
     ]
    }
   ],
   "source": [
    "# vowels list\n",
    "vowels = ['e', 'a', 'u', 'o', 'i']\n",
    "\n",
    "# sort the vowels\n",
    "vowels.sort()\n",
    "\n",
    "# print vowels\n",
    "print('Sorted list:', vowels)"
   ]
  },
  {
   "cell_type": "markdown",
   "id": "da07fa7d",
   "metadata": {},
   "source": []
  },
  {
   "cell_type": "markdown",
   "id": "f58f0e69",
   "metadata": {},
   "source": [
    "# Task 2. create a list of lenght = 10 and access 5th to 8th data."
   ]
  },
  {
   "cell_type": "code",
   "execution_count": 7,
   "id": "29bc6cb6",
   "metadata": {},
   "outputs": [
    {
     "name": "stdout",
     "output_type": "stream",
     "text": [
      "[6, 7, 8]\n"
     ]
    }
   ],
   "source": [
    "# create a list of lenght = 10 and access 5th to 8th data.\n",
    "mylist = [1, 2, 3, 4, 5, 6, 7, 8, 9, 10]\n",
    "print(mylist[5:8])"
   ]
  },
  {
   "cell_type": "markdown",
   "id": "f8d5b1cf",
   "metadata": {},
   "source": [
    "# Task 3. Add item 70 after 60 in the following Python List."
   ]
  },
  {
   "cell_type": "code",
   "execution_count": 8,
   "id": "f71f4ae2",
   "metadata": {},
   "outputs": [
    {
     "name": "stdout",
     "output_type": "stream",
     "text": [
      "[10, 20, [30, 40, [50, 60], 80], 90, 100]\n",
      "[10, 20, [30, 40, [50, 60, 70], 80], 90, 100]\n"
     ]
    }
   ],
   "source": [
    "\n",
    "#Add item 70 after 60 in the following Python List\n",
    "#input\n",
    "li = [10, 20, [30, 40, [50, 60], 80], 90, 100]\n",
    "li[2][2]\n",
    "print(li)\n",
    "li[2][2].insert(2,70)\n",
    "print(li)"
   ]
  },
  {
   "cell_type": "code",
   "execution_count": 9,
   "id": "ca4d4a6c",
   "metadata": {},
   "outputs": [
    {
     "data": {
      "text/plain": [
       "[10, 20, [30, 40, [50, 60], 80], 90, 100]"
      ]
     },
     "execution_count": 9,
     "metadata": {},
     "output_type": "execute_result"
    }
   ],
   "source": [
    "\n",
    "li = [10, 20, [30, 40, [50, 60], 80], 90, 100]\n",
    "li"
   ]
  },
  {
   "cell_type": "code",
   "execution_count": 10,
   "id": "732b8fe9",
   "metadata": {},
   "outputs": [
    {
     "data": {
      "text/plain": [
       "[50, 60]"
      ]
     },
     "execution_count": 10,
     "metadata": {},
     "output_type": "execute_result"
    }
   ],
   "source": [
    "li[2][2]"
   ]
  },
  {
   "cell_type": "code",
   "execution_count": 11,
   "id": "b08236c8",
   "metadata": {},
   "outputs": [
    {
     "data": {
      "text/plain": [
       "[10, 20, [30, 40, [50, 60, 70], 80], 90, 100]"
      ]
     },
     "execution_count": 11,
     "metadata": {},
     "output_type": "execute_result"
    }
   ],
   "source": [
    "li[2][2].insert(2,70)\n",
    "li"
   ]
  },
  {
   "cell_type": "code",
   "execution_count": 12,
   "id": "59b9c3e3",
   "metadata": {},
   "outputs": [],
   "source": [
    "\n",
    "#Task 4.2\n",
    "#add sublist [7,8] after 6\n",
    "#input\n",
    "l2 = [1,2,[3,4,5,6],9]"
   ]
  },
  {
   "cell_type": "code",
   "execution_count": 13,
   "id": "a3175ebb",
   "metadata": {},
   "outputs": [
    {
     "data": {
      "text/plain": [
       "[1, 2, [3, 4, 5, 6, [7, 8]], 9]"
      ]
     },
     "execution_count": 13,
     "metadata": {},
     "output_type": "execute_result"
    }
   ],
   "source": [
    "l2[2].insert(4,[7,8])\n",
    "l2\n"
   ]
  },
  {
   "cell_type": "code",
   "execution_count": null,
   "id": "8f1835c1",
   "metadata": {},
   "outputs": [],
   "source": []
  }
 ],
 "metadata": {
  "kernelspec": {
   "display_name": "Python 3",
   "language": "python",
   "name": "python3"
  },
  "language_info": {
   "codemirror_mode": {
    "name": "ipython",
    "version": 3
   },
   "file_extension": ".py",
   "mimetype": "text/x-python",
   "name": "python",
   "nbconvert_exporter": "python",
   "pygments_lexer": "ipython3",
   "version": "3.8.8"
  }
 },
 "nbformat": 4,
 "nbformat_minor": 5
}
