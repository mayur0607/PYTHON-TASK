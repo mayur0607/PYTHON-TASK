{
 "cells": [
  {
   "cell_type": "markdown",
   "id": "d8e87933",
   "metadata": {},
   "source": [
    "# IF,Elif,else"
   ]
  },
  {
   "cell_type": "code",
   "execution_count": 1,
   "id": "6c2034a1",
   "metadata": {},
   "outputs": [
    {
     "name": "stdout",
     "output_type": "stream",
     "text": [
      "remainder is not equals to 2\n"
     ]
    }
   ],
   "source": [
    "#Session Task do a/b, check if the remainder is = 2 or not\n",
    "a = 10\n",
    "b = 3 \n",
    "if(a%b == 2):\n",
    "    print(\"remainder is 2\")\n",
    "else:\n",
    "    print(\"remainder is not equals to 2\")"
   ]
  },
  {
   "cell_type": "code",
   "execution_count": 2,
   "id": "6c07797f",
   "metadata": {},
   "outputs": [
    {
     "name": "stdout",
     "output_type": "stream",
     "text": [
      "a is positive\n"
     ]
    }
   ],
   "source": [
    "a = 5\n",
    "if(a>0):\n",
    "    print(\"a is positive\")\n",
    "else:\n",
    "        print(\"a is negative\")"
   ]
  },
  {
   "cell_type": "code",
   "execution_count": 3,
   "id": "5e61be47",
   "metadata": {},
   "outputs": [
    {
     "name": "stdout",
     "output_type": "stream",
     "text": [
      "12\n"
     ]
    }
   ],
   "source": [
    "# task 9\n",
    "#Ask 2 numbers from users and store it in num1 and num2\n",
    "num1 = input()"
   ]
  },
  {
   "cell_type": "code",
   "execution_count": 4,
   "id": "7d895235",
   "metadata": {},
   "outputs": [
    {
     "name": "stdout",
     "output_type": "stream",
     "text": [
      "12\n"
     ]
    }
   ],
   "source": [
    "print(num1)"
   ]
  },
  {
   "cell_type": "code",
   "execution_count": 5,
   "id": "d742fa01",
   "metadata": {},
   "outputs": [
    {
     "name": "stdout",
     "output_type": "stream",
     "text": [
      "6\n"
     ]
    }
   ],
   "source": [
    "num2 = input()"
   ]
  },
  {
   "cell_type": "code",
   "execution_count": 6,
   "id": "963469ac",
   "metadata": {},
   "outputs": [
    {
     "name": "stdout",
     "output_type": "stream",
     "text": [
      "6\n"
     ]
    }
   ],
   "source": [
    "print(num2)"
   ]
  },
  {
   "cell_type": "code",
   "execution_count": 7,
   "id": "d26194e5",
   "metadata": {},
   "outputs": [],
   "source": [
    "#based on number given by user do the math operation\n",
    "num1 = 15\n",
    "num2 = 10"
   ]
  },
  {
   "cell_type": "code",
   "execution_count": 8,
   "id": "34680525",
   "metadata": {},
   "outputs": [
    {
     "data": {
      "text/plain": [
       "25"
      ]
     },
     "execution_count": 8,
     "metadata": {},
     "output_type": "execute_result"
    }
   ],
   "source": [
    "#addition\n",
    "num1 + num2"
   ]
  },
  {
   "cell_type": "code",
   "execution_count": 9,
   "id": "b93adfaf",
   "metadata": {},
   "outputs": [
    {
     "data": {
      "text/plain": [
       "5"
      ]
     },
     "execution_count": 9,
     "metadata": {},
     "output_type": "execute_result"
    }
   ],
   "source": [
    "#substraction\n",
    "num1 - num2"
   ]
  },
  {
   "cell_type": "code",
   "execution_count": 10,
   "id": "a5082ccd",
   "metadata": {},
   "outputs": [
    {
     "data": {
      "text/plain": [
       "1.5"
      ]
     },
     "execution_count": 10,
     "metadata": {},
     "output_type": "execute_result"
    }
   ],
   "source": [
    "#division\n",
    "num1/num2"
   ]
  },
  {
   "cell_type": "code",
   "execution_count": 11,
   "id": "234fc6d7",
   "metadata": {},
   "outputs": [
    {
     "data": {
      "text/plain": [
       "150"
      ]
     },
     "execution_count": 11,
     "metadata": {},
     "output_type": "execute_result"
    }
   ],
   "source": [
    "#multiplication\n",
    "num1*num2"
   ]
  },
  {
   "cell_type": "code",
   "execution_count": 12,
   "id": "200d16a7",
   "metadata": {},
   "outputs": [
    {
     "data": {
      "text/plain": [
       "5"
      ]
     },
     "execution_count": 12,
     "metadata": {},
     "output_type": "execute_result"
    }
   ],
   "source": [
    "#remainder\n",
    "num1%num2"
   ]
  }
 ],
 "metadata": {
  "kernelspec": {
   "display_name": "Python 3",
   "language": "python",
   "name": "python3"
  },
  "language_info": {
   "codemirror_mode": {
    "name": "ipython",
    "version": 3
   },
   "file_extension": ".py",
   "mimetype": "text/x-python",
   "name": "python",
   "nbconvert_exporter": "python",
   "pygments_lexer": "ipython3",
   "version": "3.8.8"
  }
 },
 "nbformat": 4,
 "nbformat_minor": 5
}
