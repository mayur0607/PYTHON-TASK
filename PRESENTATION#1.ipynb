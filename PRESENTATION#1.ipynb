{
 "cells": [
  {
   "cell_type": "code",
   "execution_count": null,
   "id": "0bd2f6f0",
   "metadata": {},
   "outputs": [],
   "source": [
    "# Modules\n",
    "# A module is a file containing code wriiten bye somebody else which can be imported and used in our program.\n",
    "\n",
    "#Types of module \n",
    "#1) Built in module  2) external module\n"
   ]
  },
  {
   "cell_type": "code",
   "execution_count": null,
   "id": "2479e640",
   "metadata": {},
   "outputs": [],
   "source": [
    "#pip\n",
    "#pip is package manager for python, you can use pip to install a module on your system.\n",
    "#eg. pip install numpy\n",
    "#    pip install flask"
   ]
  },
  {
   "cell_type": "code",
   "execution_count": null,
   "id": "e0e58876",
   "metadata": {},
   "outputs": [],
   "source": [
    "#comments\n",
    "#used to explain python code\n",
    "#comments are used to write something that programer does not want to execute."
   ]
  },
  {
   "cell_type": "code",
   "execution_count": 1,
   "id": "8d4f2be8",
   "metadata": {},
   "outputs": [
    {
     "name": "stdout",
     "output_type": "stream",
     "text": [
      "Hello world\n"
     ]
    }
   ],
   "source": [
    "#this is a comment\n",
    "print('Hello world')"
   ]
  },
  {
   "cell_type": "code",
   "execution_count": 2,
   "id": "1c401655",
   "metadata": {},
   "outputs": [
    {
     "name": "stdout",
     "output_type": "stream",
     "text": [
      "Hello world\n"
     ]
    }
   ],
   "source": [
    "\"\"\"\n",
    "i am a \n",
    "multiline \n",
    "comment \n",
    "using '#' \n",
    "at the beginning of\n",
    "each line\n",
    "\"\"\"\n",
    "print('Hello world')"
   ]
  },
  {
   "cell_type": "code",
   "execution_count": null,
   "id": "3e683912",
   "metadata": {},
   "outputs": [],
   "source": [
    "#variable\n",
    "\n",
    "# Variables are containers for storing data values.\n",
    "# Unlike other programming languages,you dont have to declare the type of variable.\n",
    "# A variable is a name given to a memory location in a programm."
   ]
  },
  {
   "cell_type": "code",
   "execution_count": 3,
   "id": "a8bee249",
   "metadata": {},
   "outputs": [
    {
     "name": "stdout",
     "output_type": "stream",
     "text": [
      "Sally\n"
     ]
    }
   ],
   "source": [
    "x = 4       \n",
    "x = \"Sally\" \n",
    "print(x)"
   ]
  },
  {
   "cell_type": "code",
   "execution_count": null,
   "id": "a9bd4420",
   "metadata": {},
   "outputs": [],
   "source": [
    "#Rules for defining variable\n",
    "#  A variable name can only contain alpha-numeric characters and underscores. (A-z, 0-9, and _ )\n",
    "#  A variable name must start with a letter or the underscore character.\n",
    "#  A variable name cannot start with a number.\n",
    "\n",
    "#eg (harry , HARRY , one8 , _sam )"
   ]
  },
  {
   "cell_type": "code",
   "execution_count": null,
   "id": "6c30ea85",
   "metadata": {},
   "outputs": [],
   "source": [
    "# print function\n",
    "# The print function prints the specified message to the screen."
   ]
  },
  {
   "cell_type": "code",
   "execution_count": 4,
   "id": "245b6fd5",
   "metadata": {},
   "outputs": [
    {
     "name": "stdout",
     "output_type": "stream",
     "text": [
      "Hello world\n"
     ]
    }
   ],
   "source": [
    "print('Hello world')"
   ]
  },
  {
   "cell_type": "code",
   "execution_count": null,
   "id": "43ac9912",
   "metadata": {},
   "outputs": [],
   "source": [
    "# Python indentation\n",
    "\n",
    "# Indentation is nothing but the speces at the beggining of code.\n",
    "# Where in other programe languge the indentation in code is readability only , the indentation in python is very important \n",
    "#  Python uses indentation to indicate block of code."
   ]
  }
 ],
 "metadata": {
  "kernelspec": {
   "display_name": "Python 3",
   "language": "python",
   "name": "python3"
  },
  "language_info": {
   "codemirror_mode": {
    "name": "ipython",
    "version": 3
   },
   "file_extension": ".py",
   "mimetype": "text/x-python",
   "name": "python",
   "nbconvert_exporter": "python",
   "pygments_lexer": "ipython3",
   "version": "3.8.8"
  }
 },
 "nbformat": 4,
 "nbformat_minor": 5
}
