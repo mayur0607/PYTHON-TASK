{
 "cells": [
  {
   "cell_type": "code",
   "execution_count": 1,
   "id": "4abbc9a2",
   "metadata": {},
   "outputs": [],
   "source": [
    "list = [0 , 1 , 2 , 3 , 4 , 5 , 6 , 7 , 8 , 9]"
   ]
  },
  {
   "cell_type": "code",
   "execution_count": 2,
   "id": "43d16502",
   "metadata": {},
   "outputs": [],
   "source": [
    "#accsess 5th to 8th"
   ]
  },
  {
   "cell_type": "code",
   "execution_count": 3,
   "id": "27eec480",
   "metadata": {},
   "outputs": [
    {
     "data": {
      "text/plain": [
       "[5, 6, 7]"
      ]
     },
     "execution_count": 3,
     "metadata": {},
     "output_type": "execute_result"
    }
   ],
   "source": [
    "list[5:8]"
   ]
  }
 ],
 "metadata": {
  "kernelspec": {
   "display_name": "Python 3",
   "language": "python",
   "name": "python3"
  },
  "language_info": {
   "codemirror_mode": {
    "name": "ipython",
    "version": 3
   },
   "file_extension": ".py",
   "mimetype": "text/x-python",
   "name": "python",
   "nbconvert_exporter": "python",
   "pygments_lexer": "ipython3",
   "version": "3.8.8"
  }
 },
 "nbformat": 4,
 "nbformat_minor": 5
}
