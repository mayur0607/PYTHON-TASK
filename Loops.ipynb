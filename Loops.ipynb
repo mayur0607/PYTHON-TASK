{
 "cells": [
  {
   "cell_type": "markdown",
   "id": "d86f2f07",
   "metadata": {},
   "source": [
    "# Loops"
   ]
  },
  {
   "cell_type": "markdown",
   "id": "7d075817",
   "metadata": {},
   "source": [
    "\n",
    "# Task 10.1 what is the uasge of continue wiith an example"
   ]
  },
  {
   "cell_type": "code",
   "execution_count": 1,
   "id": "0c470098",
   "metadata": {},
   "outputs": [],
   "source": [
    "#The continue statement in Python returns the control to the beginning of the while loop. \n",
    "#The continue statement rejects all the remaining statements in the current iteration of the loop \n",
    "#and moves the control back to the top of the loop.\n",
    "\n",
    "#The continue statement can be used in both while and for loops."
   ]
  },
  {
   "cell_type": "code",
   "execution_count": 2,
   "id": "30ff3637",
   "metadata": {},
   "outputs": [
    {
     "name": "stdout",
     "output_type": "stream",
     "text": [
      "1 2 3 4 5 7 8 9 10 "
     ]
    }
   ],
   "source": [
    "\n",
    "#example of continue keyword.\n",
    "# loop from 1 to 10\n",
    "for i in range(1, 11):\n",
    "  \n",
    "    # If i is equals to 6,  \n",
    "    # continue to next iteration  \n",
    "    # without printing \n",
    "    if i == 6:\n",
    "        continue\n",
    "    else:\n",
    "        # otherwise print the value\n",
    "        # of i\n",
    "        print(i, end = \" \")"
   ]
  },
  {
   "cell_type": "markdown",
   "id": "2e6d8921",
   "metadata": {},
   "source": [
    "# Task 10.2"
   ]
  },
  {
   "cell_type": "code",
   "execution_count": 3,
   "id": "68a47115",
   "metadata": {},
   "outputs": [
    {
     "ename": "SyntaxError",
     "evalue": "invalid syntax (<ipython-input-3-126b98b4a6c3>, line 2)",
     "output_type": "error",
     "traceback": [
      "\u001b[1;36m  File \u001b[1;32m\"<ipython-input-3-126b98b4a6c3>\"\u001b[1;36m, line \u001b[1;32m2\u001b[0m\n\u001b[1;33m    When the pass statement is executed, nothing happens, but you avoid getting an error when empty code is not allowed.\u001b[0m\n\u001b[1;37m         ^\u001b[0m\n\u001b[1;31mSyntaxError\u001b[0m\u001b[1;31m:\u001b[0m invalid syntax\n"
     ]
    }
   ],
   "source": [
    "#The pass statement is used as a placeholder for future code.\n",
    "#When the pass statement is executed, nothing happens, but you avoid getting an error when empty code is not allowed.\n",
    "#Empty code is not allowed in loops, function definitions, class definitions, or in if statements."
   ]
  },
  {
   "cell_type": "code",
   "execution_count": 4,
   "id": "e6944296",
   "metadata": {},
   "outputs": [
    {
     "name": "stdout",
     "output_type": "stream",
     "text": [
      "b\n",
      "c\n",
      "d\n"
     ]
    }
   ],
   "source": [
    "#example of pass keyword.\n",
    "li =['a', 'b', 'c', 'd']\n",
    "  \n",
    "for i in li:\n",
    "    if(i =='a'):\n",
    "        pass \n",
    "    else:\n",
    "        print(i)"
   ]
  },
  {
   "cell_type": "markdown",
   "id": "bcf4fd38",
   "metadata": {},
   "source": [
    "# Task 10.3"
   ]
  },
  {
   "cell_type": "code",
   "execution_count": 5,
   "id": "2a227f88",
   "metadata": {},
   "outputs": [
    {
     "name": "stdout",
     "output_type": "stream",
     "text": [
      "list of numbers from 10 to 1:\n",
      "10 9 8 7 6 5 4 3 2 1 "
     ]
    }
   ],
   "source": [
    "#Task A using while loop print numbers from 10 to 1\n",
    "i = 10\n",
    "num = 1 \n",
    "print(\"list of numbers from 10 to {0}:\".format(num))\n",
    "while(i >= num):\n",
    "    print(i,end =\" \")\n",
    "    i = i -1"
   ]
  }
 ],
 "metadata": {
  "kernelspec": {
   "display_name": "Python 3",
   "language": "python",
   "name": "python3"
  },
  "language_info": {
   "codemirror_mode": {
    "name": "ipython",
    "version": 3
   },
   "file_extension": ".py",
   "mimetype": "text/x-python",
   "name": "python",
   "nbconvert_exporter": "python",
   "pygments_lexer": "ipython3",
   "version": "3.8.8"
  }
 },
 "nbformat": 4,
 "nbformat_minor": 5
}
