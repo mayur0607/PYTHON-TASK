{
 "cells": [
  {
   "cell_type": "markdown",
   "id": "51273a8a",
   "metadata": {},
   "source": [
    "# Lambda_Function"
   ]
  },
  {
   "cell_type": "markdown",
   "id": "99de0267",
   "metadata": {},
   "source": [
    "### Ex1) Squaring a number"
   ]
  },
  {
   "cell_type": "code",
   "execution_count": 1,
   "id": "6012c629",
   "metadata": {},
   "outputs": [
    {
     "data": {
      "text/plain": [
       "25"
      ]
     },
     "execution_count": 1,
     "metadata": {},
     "output_type": "execute_result"
    }
   ],
   "source": [
    "# with one argument\n",
    "\n",
    "# normal function\n",
    "def square(num):\n",
    "    return num**2\n",
    "\n",
    "square(5)"
   ]
  },
  {
   "cell_type": "code",
   "execution_count": 2,
   "id": "de83747d",
   "metadata": {},
   "outputs": [],
   "source": [
    "# lambda functions\n",
    "square = lambda num:num**2"
   ]
  },
  {
   "cell_type": "code",
   "execution_count": 3,
   "id": "7af4e5d5",
   "metadata": {},
   "outputs": [
    {
     "data": {
      "text/plain": [
       "25"
      ]
     },
     "execution_count": 3,
     "metadata": {},
     "output_type": "execute_result"
    }
   ],
   "source": [
    "square(5)"
   ]
  },
  {
   "cell_type": "markdown",
   "id": "323fe42a",
   "metadata": {},
   "source": [
    "### Ex2) adding multiple number"
   ]
  },
  {
   "cell_type": "code",
   "execution_count": null,
   "id": "6db6ab41",
   "metadata": {},
   "outputs": [],
   "source": [
    "# with multiple arguments\n",
    "# normal function\n",
    "def add(x,y,z):\n",
    "    return x + y + z\n",
    "\n",
    "add(5,10,15)"
   ]
  },
  {
   "cell_type": "code",
   "execution_count": null,
   "id": "2104ab34",
   "metadata": {},
   "outputs": [],
   "source": [
    "#lambda function.\n",
    "add = lambada x,y,x: x + y + z"
   ]
  },
  {
   "cell_type": "code",
   "execution_count": null,
   "id": "f7a64eaa",
   "metadata": {},
   "outputs": [],
   "source": [
    "add(5,10,15)"
   ]
  },
  {
   "cell_type": "code",
   "execution_count": null,
   "id": "4ce27aa3",
   "metadata": {},
   "outputs": [],
   "source": []
  },
  {
   "cell_type": "markdown",
   "id": "17cdfc71",
   "metadata": {},
   "source": [
    "\n",
    "### Using map() and filter() with lambda function"
   ]
  },
  {
   "cell_type": "markdown",
   "id": "30a1ba3f",
   "metadata": {},
   "source": [
    "#Ex1) Square Ex"
   ]
  },
  {
   "cell_type": "code",
   "execution_count": null,
   "id": "4f8f5960",
   "metadata": {},
   "outputs": [],
   "source": [
    "# sequence\n",
    "my_nums = [1,2,3,4,5]\n",
    "\n",
    "# lambda with map function\n",
    "map(lambda num:num**2,my_nums)"
   ]
  },
  {
   "cell_type": "code",
   "execution_count": null,
   "id": "95dcc568",
   "metadata": {},
   "outputs": [],
   "source": [
    "\n",
    "for item in map(lambda num:num**2,my_nums):\n",
    "    print(item)"
   ]
  },
  {
   "cell_type": "code",
   "execution_count": null,
   "id": "82c35e59",
   "metadata": {},
   "outputs": [],
   "source": []
  },
  {
   "cell_type": "code",
   "execution_count": null,
   "id": "cb66f4a0",
   "metadata": {},
   "outputs": [],
   "source": []
  }
 ],
 "metadata": {
  "kernelspec": {
   "display_name": "Python 3",
   "language": "python",
   "name": "python3"
  },
  "language_info": {
   "codemirror_mode": {
    "name": "ipython",
    "version": 3
   },
   "file_extension": ".py",
   "mimetype": "text/x-python",
   "name": "python",
   "nbconvert_exporter": "python",
   "pygments_lexer": "ipython3",
   "version": "3.8.8"
  }
 },
 "nbformat": 4,
 "nbformat_minor": 5
}
