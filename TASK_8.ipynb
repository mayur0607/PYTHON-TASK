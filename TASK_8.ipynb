{
 "cells": [
  {
   "cell_type": "code",
   "execution_count": null,
   "id": "e7386626",
   "metadata": {},
   "outputs": [],
   "source": [
    "#DATA STRUCTURE\n",
    "LIST\n",
    "TUPLE \n",
    "DICTIONRY\n",
    "SET"
   ]
  },
  {
   "cell_type": "code",
   "execution_count": null,
   "id": "05210601",
   "metadata": {},
   "outputs": [],
   "source": [
    "#LIST\n",
    "\n",
    "1]Can store different data types\n",
    "2]Duplicate values are allowed\n",
    "3]Order is retained\n",
    "4]Indexing and slicing is possible\n",
    "5]Mutable"
   ]
  },
  {
   "cell_type": "code",
   "execution_count": null,
   "id": "6631da89",
   "metadata": {},
   "outputs": [],
   "source": [
    "#TUPLE\n",
    "\n",
    "1]Can store different data types\n",
    "2]Duplicate values are allowed\n",
    "3]Order is retained\n",
    "4]Indexing and slicing is possible\n",
    "5]Immutable."
   ]
  },
  {
   "cell_type": "code",
   "execution_count": null,
   "id": "8edf1d35",
   "metadata": {},
   "outputs": [],
   "source": [
    "#DICTIONRY\n",
    "\n",
    "1]Can store different data types\n",
    "2]Order doesnt matter here\n",
    "3]Keys should be unique\n",
    "4]Mutable"
   ]
  },
  {
   "cell_type": "code",
   "execution_count": null,
   "id": "2abacb5d",
   "metadata": {},
   "outputs": [],
   "source": [
    "#SET\n",
    "\n",
    "1]Can store different data types\n",
    "2]Duplicate values are not allowed\n",
    "3]Order is not retained\n",
    "4]Indexing and slicing is not possible"
   ]
  }
 ],
 "metadata": {
  "kernelspec": {
   "display_name": "Python 3",
   "language": "python",
   "name": "python3"
  },
  "language_info": {
   "codemirror_mode": {
    "name": "ipython",
    "version": 3
   },
   "file_extension": ".py",
   "mimetype": "text/x-python",
   "name": "python",
   "nbconvert_exporter": "python",
   "pygments_lexer": "ipython3",
   "version": "3.8.8"
  }
 },
 "nbformat": 4,
 "nbformat_minor": 5
}
