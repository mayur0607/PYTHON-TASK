{
 "cells": [
  {
   "cell_type": "code",
   "execution_count": 1,
   "id": "bdb9bc95",
   "metadata": {},
   "outputs": [],
   "source": [
    "#return keyword can be used to return values from a function\n",
    "#it can be used to end the execution of a function\n",
    "#statements below return keyword will not get executed"
   ]
  },
  {
   "cell_type": "code",
   "execution_count": 2,
   "id": "cad326ae",
   "metadata": {},
   "outputs": [],
   "source": [
    "def mul(x,y):\n",
    "    z = x * y\n",
    "    return z\n",
    "    print(z)"
   ]
  },
  {
   "cell_type": "code",
   "execution_count": 3,
   "id": "b56a30a3",
   "metadata": {},
   "outputs": [],
   "source": [
    "my_mul = mul(56 , 32)"
   ]
  },
  {
   "cell_type": "code",
   "execution_count": 4,
   "id": "1319bf09",
   "metadata": {},
   "outputs": [
    {
     "data": {
      "text/plain": [
       "1792"
      ]
     },
     "execution_count": 4,
     "metadata": {},
     "output_type": "execute_result"
    }
   ],
   "source": [
    "my_mul"
   ]
  }
 ],
 "metadata": {
  "kernelspec": {
   "display_name": "Python 3",
   "language": "python",
   "name": "python3"
  },
  "language_info": {
   "codemirror_mode": {
    "name": "ipython",
    "version": 3
   },
   "file_extension": ".py",
   "mimetype": "text/x-python",
   "name": "python",
   "nbconvert_exporter": "python",
   "pygments_lexer": "ipython3",
   "version": "3.8.8"
  }
 },
 "nbformat": 4,
 "nbformat_minor": 5
}
