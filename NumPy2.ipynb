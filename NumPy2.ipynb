{
 "cells": [
  {
   "cell_type": "markdown",
   "id": "b4c2dfa5",
   "metadata": {},
   "source": [
    "### Random numbers in numpy"
   ]
  },
  {
   "cell_type": "code",
   "execution_count": null,
   "id": "4f05c58f",
   "metadata": {},
   "outputs": [],
   "source": [
    "# np.random.random()\n",
    "generates a random number from 0 to 1"
   ]
  },
  {
   "cell_type": "code",
   "execution_count": 1,
   "id": "b6234592",
   "metadata": {},
   "outputs": [],
   "source": [
    "import numpy as np"
   ]
  },
  {
   "cell_type": "code",
   "execution_count": 2,
   "id": "8d91853a",
   "metadata": {},
   "outputs": [
    {
     "name": "stdout",
     "output_type": "stream",
     "text": [
      "0.8247243392073124\n"
     ]
    }
   ],
   "source": [
    "print(np.random.random())"
   ]
  },
  {
   "cell_type": "code",
   "execution_count": 3,
   "id": "5ead3eeb",
   "metadata": {},
   "outputs": [
    {
     "name": "stdout",
     "output_type": "stream",
     "text": [
      "0.8286161550585313\n",
      "0.467810851022313\n",
      "0.898967104159557\n",
      "0.31300258734560593\n"
     ]
    }
   ],
   "source": [
    "print(np.random.random())\n",
    "print(np.random.random())\n",
    "print(np.random.random())\n",
    "print(np.random.random())"
   ]
  },
  {
   "cell_type": "code",
   "execution_count": 4,
   "id": "e05a0e41",
   "metadata": {},
   "outputs": [
    {
     "name": "stdout",
     "output_type": "stream",
     "text": [
      "0.5850299815752336\n",
      "0.6383173255330763\n",
      "0.9802917839816164\n",
      "0.03935027992439344\n"
     ]
    }
   ],
   "source": [
    "print(np.random.random())\n",
    "print(np.random.random())\n",
    "print(np.random.random())\n",
    "print(np.random.random())"
   ]
  },
  {
   "cell_type": "code",
   "execution_count": 5,
   "id": "c4954683",
   "metadata": {},
   "outputs": [],
   "source": [
    "np.random.seed()"
   ]
  },
  {
   "cell_type": "code",
   "execution_count": 6,
   "id": "4cccef04",
   "metadata": {},
   "outputs": [
    {
     "name": "stdout",
     "output_type": "stream",
     "text": [
      "0.5434049417909654\n",
      "0.27836938509379616\n",
      "0.4245175907491331\n",
      "0.8447761323199037\n"
     ]
    }
   ],
   "source": [
    "np.random.seed(100)\n",
    "print(np.random.random())\n",
    "print(np.random.random())\n",
    "print(np.random.random())\n",
    "print(np.random.random())"
   ]
  },
  {
   "cell_type": "code",
   "execution_count": 7,
   "id": "dc3b6a4f",
   "metadata": {},
   "outputs": [
    {
     "data": {
      "text/plain": [
       "array([[0.00471886, 0.12156912, 0.67074908, 0.82585276],\n",
       "       [0.13670659, 0.57509333, 0.89132195, 0.20920212],\n",
       "       [0.18532822, 0.10837689, 0.21969749, 0.97862378],\n",
       "       [0.81168315, 0.17194101, 0.81622475, 0.27407375]])"
      ]
     },
     "execution_count": 7,
     "metadata": {},
     "output_type": "execute_result"
    }
   ],
   "source": [
    "# you can specify the shape\n",
    "x = np.random.random((4, 4))\n",
    "x"
   ]
  },
  {
   "cell_type": "markdown",
   "id": "4402fde1",
   "metadata": {},
   "source": [
    "### np.random.randint()"
   ]
  },
  {
   "cell_type": "code",
   "execution_count": 8,
   "id": "14183f8e",
   "metadata": {},
   "outputs": [
    {
     "data": {
      "text/plain": [
       "79"
      ]
     },
     "execution_count": 8,
     "metadata": {},
     "output_type": "execute_result"
    }
   ],
   "source": [
    "num = np.random.randint(low = 20, high =100)\n",
    "num"
   ]
  },
  {
   "cell_type": "code",
   "execution_count": 9,
   "id": "e5fcd13d",
   "metadata": {},
   "outputs": [
    {
     "data": {
      "text/plain": [
       "array([87, 27, 69, 67, 85])"
      ]
     },
     "execution_count": 9,
     "metadata": {},
     "output_type": "execute_result"
    }
   ],
   "source": [
    "num = np.random.randint(low = 20, high = 100, size = 5)\n",
    "num"
   ]
  },
  {
   "cell_type": "markdown",
   "id": "be6f2fcb",
   "metadata": {},
   "source": [
    "### np.random.choice(list_of_choice,num_of_ele)"
   ]
  },
  {
   "cell_type": "code",
   "execution_count": 10,
   "id": "fdbe123a",
   "metadata": {},
   "outputs": [
    {
     "data": {
      "text/plain": [
       "[24, 27, 22, 47, 35, 82, -33, 25, 2.3, 18]"
      ]
     },
     "execution_count": 10,
     "metadata": {},
     "output_type": "execute_result"
    }
   ],
   "source": [
    "a = [24,27,22,47,35,82,-33,25,2.3,18]\n",
    "a"
   ]
  },
  {
   "cell_type": "code",
   "execution_count": 11,
   "id": "ee72deb3",
   "metadata": {},
   "outputs": [
    {
     "data": {
      "text/plain": [
       "array([25., 25., 24.])"
      ]
     },
     "execution_count": 11,
     "metadata": {},
     "output_type": "execute_result"
    }
   ],
   "source": [
    "np.random.choice(a,size = 3)"
   ]
  },
  {
   "cell_type": "code",
   "execution_count": 12,
   "id": "76acb022",
   "metadata": {},
   "outputs": [
    {
     "data": {
      "text/plain": [
       "array([[ 22. ,  18. ,  18. ,  47. ,  22. ],\n",
       "       [ 82. ,   2.3,  27. ,  24. ,  25. ],\n",
       "       [-33. ,  22. ,  24. ,   2.3,  22. ],\n",
       "       [ 82. ,  27. ,   2.3,  27. ,  82. ],\n",
       "       [ 35. ,  22. ,   2.3,  47. ,  82. ]])"
      ]
     },
     "execution_count": 12,
     "metadata": {},
     "output_type": "execute_result"
    }
   ],
   "source": [
    "np.random.choice(a,size = (5,5))"
   ]
  },
  {
   "cell_type": "code",
   "execution_count": null,
   "id": "763b586d",
   "metadata": {},
   "outputs": [],
   "source": []
  },
  {
   "cell_type": "markdown",
   "id": "f8ccb0d3",
   "metadata": {},
   "source": [
    "### Other Important functions"
   ]
  },
  {
   "cell_type": "code",
   "execution_count": 13,
   "id": "57b81ba2",
   "metadata": {},
   "outputs": [
    {
     "data": {
      "text/plain": [
       "array([[0.76911517, 0.25069523, 0.28589569, 0.85239509],\n",
       "       [0.97500649, 0.88485329, 0.35950784, 0.59885895],\n",
       "       [0.35479561, 0.34019022, 0.17808099, 0.23769421],\n",
       "       [0.04486228, 0.50543143, 0.37625245, 0.5928054 ]])"
      ]
     },
     "execution_count": 13,
     "metadata": {},
     "output_type": "execute_result"
    }
   ],
   "source": [
    "x = np.random.random((4, 4))\n",
    "x"
   ]
  },
  {
   "cell_type": "markdown",
   "id": "280ef89a",
   "metadata": {},
   "source": [
    "np.round()"
   ]
  },
  {
   "cell_type": "code",
   "execution_count": 15,
   "id": "f47ff9d5",
   "metadata": {},
   "outputs": [
    {
     "data": {
      "text/plain": [
       "array([[0.769, 0.251, 0.286, 0.852],\n",
       "       [0.975, 0.885, 0.36 , 0.599],\n",
       "       [0.355, 0.34 , 0.178, 0.238],\n",
       "       [0.045, 0.505, 0.376, 0.593]])"
      ]
     },
     "execution_count": 15,
     "metadata": {},
     "output_type": "execute_result"
    }
   ],
   "source": [
    "# to round it to 3 decimal points\n",
    "rounded = np.round(x, 3)\n",
    "rounded"
   ]
  },
  {
   "cell_type": "code",
   "execution_count": 16,
   "id": "b8edc9f4",
   "metadata": {},
   "outputs": [
    {
     "data": {
      "text/plain": [
       "array([[76.9, 25.1, 28.6, 85.2],\n",
       "       [97.5, 88.5, 36. , 59.9],\n",
       "       [35.5, 34. , 17.8, 23.8],\n",
       "       [ 4.5, 50.5, 37.6, 59.3]])"
      ]
     },
     "execution_count": 16,
     "metadata": {},
     "output_type": "execute_result"
    }
   ],
   "source": [
    "new = rounded * 100\n",
    "new"
   ]
  },
  {
   "cell_type": "markdown",
   "id": "81041c3a",
   "metadata": {},
   "source": [
    "astype()"
   ]
  },
  {
   "cell_type": "code",
   "execution_count": 17,
   "id": "69d8d63d",
   "metadata": {},
   "outputs": [
    {
     "data": {
      "text/plain": [
       "array([[76, 25, 28, 85],\n",
       "       [97, 88, 36, 59],\n",
       "       [35, 34, 17, 23],\n",
       "       [ 4, 50, 37, 59]])"
      ]
     },
     "execution_count": 17,
     "metadata": {},
     "output_type": "execute_result"
    }
   ],
   "source": [
    "# to change the data type of elements to integers\n",
    "intt = new.astype(int)\n",
    "intt"
   ]
  },
  {
   "cell_type": "code",
   "execution_count": null,
   "id": "dc7d59f0",
   "metadata": {},
   "outputs": [],
   "source": []
  }
 ],
 "metadata": {
  "kernelspec": {
   "display_name": "Python 3",
   "language": "python",
   "name": "python3"
  },
  "language_info": {
   "codemirror_mode": {
    "name": "ipython",
    "version": 3
   },
   "file_extension": ".py",
   "mimetype": "text/x-python",
   "name": "python",
   "nbconvert_exporter": "python",
   "pygments_lexer": "ipython3",
   "version": "3.8.8"
  }
 },
 "nbformat": 4,
 "nbformat_minor": 5
}
